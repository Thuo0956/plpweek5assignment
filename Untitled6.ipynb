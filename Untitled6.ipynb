{
  "nbformat": 4,
  "nbformat_minor": 0,
  "metadata": {
    "colab": {
      "provenance": [],
      "authorship_tag": "ABX9TyNMhRJe8TCzIBhydbKQqTHL",
      "include_colab_link": true
    },
    "kernelspec": {
      "name": "python3",
      "display_name": "Python 3"
    },
    "language_info": {
      "name": "python"
    }
  },
  "cells": [
    {
      "cell_type": "markdown",
      "metadata": {
        "id": "view-in-github",
        "colab_type": "text"
      },
      "source": [
        "<a href=\"https://colab.research.google.com/github/Thuo0956/plpweek5assignment/blob/main/Untitled6.ipynb\" target=\"_parent\"><img src=\"https://colab.research.google.com/assets/colab-badge.svg\" alt=\"Open In Colab\"/></a>"
      ]
    },
    {
      "cell_type": "code",
      "execution_count": null,
      "metadata": {
        "id": "bXoZ98FPx1ex"
      },
      "outputs": [],
      "source": [
        "# Open the file \"my_file.txt\" in write mode ('w')\n",
        "with open(\"my_file.txt\", \"w\") as file:\n",
        "    # Write the first line of text to the file\n",
        "    file.write(\"This is the first line of text.\\n\")\n",
        "\n",
        "    # Write the second line of text to the file\n",
        "    file.write(\"12345\\n\")  # Writing a mix of strings and numbers\n",
        "\n",
        "    # Write the third line of text to the file\n",
        "    file.write(\"Python is awesome!\\n\")\n",
        "\n",
        "print(\"File 'my_file.txt' created and data written successfully.\")\n"
      ]
    },
    {
      "cell_type": "markdown",
      "source": [],
      "metadata": {
        "id": "DIgIaSokyofJ"
      }
    },
    {
      "cell_type": "code",
      "source": [
        "# Open the file \"my_file.txt\" in write mode ('w')\n",
        "with open(\"my_file.txt\", \"w\") as file:\n",
        "    # Write the first line of text to the file\n",
        "    file.write(\"This is the first line of text.\\n\")\n",
        "\n",
        "    # Write the second line of text to the file\n",
        "    file.write(\"12345\\n\")  # Writing a mix of strings and numbers\n",
        "\n",
        "    # Write the third line of text to the file\n",
        "    file.write(\"Python is awesome!\\n\")\n",
        "\n",
        "print(\"File 'my_file.txt' created and data written successfully.\")\n",
        "\n",
        "# Open the file \"my_file.txt\" in read mode ('r')\n",
        "with open(\"my_file.txt\", \"r\") as file:\n",
        "    # Read and display the contents of the file\n",
        "    print(\"Contents of 'my_file.txt':\")\n",
        "    for line in file:\n",
        "        print(line, end=\"\")\n"
      ],
      "metadata": {
        "id": "qX2TVO79yuia"
      },
      "execution_count": null,
      "outputs": []
    },
    {
      "cell_type": "code",
      "source": [
        "# Open the file \"my_file.txt\" in append mode ('a')\n",
        "with open(\"my_file.txt\", \"a\") as file:\n",
        "    # Append three additional lines of text to the existing content\n",
        "    file.write(\"This is the fourth line of text.\\n\")\n",
        "    file.write(\"67890\\n\")  # Appending a mix of strings and numbers\n",
        "    file.write(\"Appending more content to the file.\\n\")\n",
        "\n",
        "print(\"Data appended to 'my_file.txt' successfully.\")\n",
        "\n",
        "# Open the file \"my_file.txt\" in read mode ('r')\n",
        "with open(\"my_file.txt\", \"r\") as file:\n",
        "    # Read and display the updated contents of the file\n",
        "    print(\"Updated contents of 'my_file.txt':\")\n",
        "    for line in file:\n",
        "        print(line, end=\"\")\n"
      ],
      "metadata": {
        "id": "toRoTJ1_zHGa"
      },
      "execution_count": null,
      "outputs": []
    },
    {
      "cell_type": "code",
      "source": [
        "try:\n",
        "    # Open the file \"my_file.txt\" in append mode ('a')\n",
        "    with open(\"my_file.txt\", \"a\") as file:\n",
        "        # Append three additional lines of text to the existing content\n",
        "        file.write(\"This is the fourth line of text.\\n\")\n",
        "        file.write(\"67890\\n\")  # Appending a mix of strings and numbers\n",
        "        file.write(\"Appending more content to the file.\\n\")\n",
        "\n",
        "    print(\"Data appended to 'my_file.txt' successfully.\")\n",
        "\n",
        "    # Open the file \"my_file.txt\" in read mode ('r')\n",
        "    with open(\"my_file.txt\", \"r\") as file:\n",
        "        # Read and display the updated contents of the file\n",
        "        print(\"Updated contents of 'my_file.txt':\")\n",
        "        for line in file:\n",
        "            print(line, end=\"\")\n",
        "\n",
        "except FileNotFoundError:\n",
        "    print(\"Error: The file 'my_file.txt' does not exist.\")\n",
        "\n",
        "except PermissionError:\n",
        "    print(\"Error: Permission denied. Unable to access the file.\")\n",
        "\n",
        "except Exception as e:\n",
        "    print(f\"An error occurred: {e}\")\n",
        "\n",
        "finally:\n",
        "    print(\"End of file handling process.\")\n"
      ],
      "metadata": {
        "id": "_JQs37ygzVG4"
      },
      "execution_count": null,
      "outputs": []
    }
  ]
}